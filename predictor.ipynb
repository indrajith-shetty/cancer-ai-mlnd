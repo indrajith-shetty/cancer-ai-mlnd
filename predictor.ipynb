{
 "cells": [
  {
   "cell_type": "code",
   "execution_count": null,
   "metadata": {},
   "outputs": [],
   "source": [
    "from my_model import MyModel\n",
    "from keras.models import Sequential\n",
    "from keras.layers import Conv2D, MaxPooling2D\n",
    "from keras.layers import Activation, Dropout, Flatten, Dense\n",
    "from keras.preprocessing.image import ImageDataGenerator,load_img,img_to_array\n",
    "input_h=150\n",
    "batch_size = 100\n",
    "import pprint\n",
    "pp=pprint.pprint"
   ]
  },
  {
   "cell_type": "code",
   "execution_count": null,
   "metadata": {},
   "outputs": [],
   "source": [
    "\n",
    "model=  MyModel().get_model(input_h)\n",
    "model.load_weights('first_try.h5')"
   ]
  },
  {
   "cell_type": "code",
   "execution_count": 3,
   "metadata": {},
   "outputs": [
    {
     "name": "stdout",
     "output_type": "stream",
     "text": [
      "Found 150 images belonging to 3 classes.\n"
     ]
    }
   ],
   "source": [
    "#val data generator\n",
    "val_datagen = ImageDataGenerator(rescale=1. / 255)\n",
    "    # this is a similar generator, for validation data\n",
    "validation_generator = val_datagen.flow_from_directory(\n",
    "        '../data/valid',\n",
    "        target_size=(input_h, input_h),\n",
    "        batch_size=batch_size,\n",
    "        class_mode=None,\n",
    "        seed=1)"
   ]
  },
  {
   "cell_type": "code",
   "execution_count": 4,
   "metadata": {},
   "outputs": [
    {
     "name": "stdout",
     "output_type": "stream",
     "text": [
      "Found 600 images belonging to 3 classes.\n"
     ]
    }
   ],
   "source": [
    "#test data generator\n",
    "test_datagen = ImageDataGenerator(rescale=1./255)\n",
    "test_generator=test_datagen.flow_from_directory(\n",
    "        '../data/test',\n",
    "        target_size=(input_h, input_h),\n",
    "        batch_size=batch_size,\n",
    "        class_mode='categorical')"
   ]
  },
  {
   "cell_type": "code",
   "execution_count": 5,
   "metadata": {},
   "outputs": [
    {
     "data": {
      "text/plain": [
       "0.65499999125798547"
      ]
     },
     "execution_count": 5,
     "metadata": {},
     "output_type": "execute_result"
    }
   ],
   "source": [
    "score=model.evaluate_generator(test_generator)\n",
    "score[1]"
   ]
  },
  {
   "cell_type": "code",
   "execution_count": null,
   "metadata": {},
   "outputs": [],
   "source": [
    "print(validation_generator.class_indices)\n",
    "import pandas as pd\n",
    "df= pd.DataFrame(columns=['Id','task_1','task_2'])\n",
    "Id=list()\n",
    "task1=list()\n",
    "task2=list()\n",
    "for filename in validation_generator.filenames:\n",
    "    fullpath=validation_generator.directory+\"/\"+filename\n",
    "    img =load_img(fullpath, target_size=(input_h, input_h))\n",
    "    x = img_to_array(img)\n",
    "    x=x/255\n",
    "    x = x.reshape((1,) + x.shape)\n",
    "    pred=model.predict(x)\n",
    "    filename_for_csv=\"data/test/\"+filename\n",
    "    Id.append(filename_for_csv)\n",
    "    \n",
    "    task1.append(pred[0][0])\n",
    "    task2.append(pred[0][2])\n",
    "    df=df.append(pd.DataFrame({'Id':Id,'task_1':task1,'task_2':task2}))\n",
    "    \n",
    "df.to_csv('sample.csv',index=False)\n",
    "    "
   ]
  },
  {
   "cell_type": "code",
   "execution_count": 6,
   "metadata": {},
   "outputs": [
    {
     "name": "stdout",
     "output_type": "stream",
     "text": [
      "{'seborrheic_keratosis': 2, 'nevus': 1, 'melanoma': 0}\n"
     ]
    }
   ],
   "source": [
    "print(test_generator.class_indices)\n",
    "import pandas as pd\n",
    "df= pd.DataFrame(columns=['Id','task_1','task_2'])\n",
    "Id=list()\n",
    "task1=list()\n",
    "task2=list()\n",
    "for filename in test_generator.filenames:\n",
    "    fullpath=test_generator.directory+\"/\"+filename\n",
    "    img =load_img(fullpath, target_size=(input_h, input_h))\n",
    "    x = img_to_array(img)\n",
    "    x=x/255\n",
    "    x = x.reshape((1,) + x.shape)\n",
    "    pred=model.predict(x)\n",
    "    filename_for_csv=\"data/test/\"+filename\n",
    "    Id.append(filename_for_csv)\n",
    "    \n",
    "    task1.append(pred[0][0])\n",
    "    task2.append(pred[0][2])\n"
   ]
  },
  {
   "cell_type": "code",
   "execution_count": 8,
   "metadata": {},
   "outputs": [],
   "source": [
    "df1= pd.DataFrame(columns=['Id','task_1','task_2'])\n",
    "df1=df1.append(pd.DataFrame({'Id':Id,'task_1':task1,'task_2':task2}))\n",
    "df1.to_csv('sample.csv',index=False)"
   ]
  },
  {
   "cell_type": "code",
   "execution_count": null,
   "metadata": {},
   "outputs": [],
   "source": []
  }
 ],
 "metadata": {
  "kernelspec": {
   "display_name": "Python 3",
   "language": "python",
   "name": "python3"
  },
  "language_info": {
   "codemirror_mode": {
    "name": "ipython",
    "version": 3
   },
   "file_extension": ".py",
   "mimetype": "text/x-python",
   "name": "python",
   "nbconvert_exporter": "python",
   "pygments_lexer": "ipython3",
   "version": "3.5.4"
  }
 },
 "nbformat": 4,
 "nbformat_minor": 2
}
